{
 "cells": [
  {
   "cell_type": "markdown",
   "metadata": {},
   "source": [
    "### Задание 1"
   ]
  },
  {
   "cell_type": "code",
   "execution_count": 1,
   "metadata": {},
   "outputs": [
    {
     "name": "stdout",
     "output_type": "stream",
     "text": [
      "разработка\n",
      "<class 'str'>\n",
      "\n",
      "сокет\n",
      "<class 'str'>\n",
      "\n",
      "декоратор\n",
      "<class 'str'>\n",
      "\n"
     ]
    }
   ],
   "source": [
    "words = ['разработка', 'сокет', 'декоратор']\n",
    "\n",
    "for word in words:\n",
    "    print(word)\n",
    "    print(type(word))\n",
    "    print()"
   ]
  },
  {
   "cell_type": "markdown",
   "metadata": {},
   "source": [
    "### Задание 2"
   ]
  },
  {
   "cell_type": "code",
   "execution_count": 2,
   "metadata": {},
   "outputs": [
    {
     "name": "stdout",
     "output_type": "stream",
     "text": [
      "b'class'\n",
      "type:  <class 'bytes'>\n",
      "length:  5\n",
      "\n",
      "b'function'\n",
      "type:  <class 'bytes'>\n",
      "length:  8\n",
      "\n",
      "b'method'\n",
      "type:  <class 'bytes'>\n",
      "length:  6\n",
      "\n"
     ]
    }
   ],
   "source": [
    "bytes_ = [b'class', b'function', b'method']\n",
    "\n",
    "for bytestr in bytes_:\n",
    "    print(bytestr)\n",
    "    print('type: ',type(bytestr))\n",
    "    print('length: ', len(bytestr))\n",
    "    print()"
   ]
  },
  {
   "cell_type": "markdown",
   "metadata": {},
   "source": [
    "### Задание 3"
   ]
  },
  {
   "cell_type": "code",
   "execution_count": 3,
   "metadata": {},
   "outputs": [
    {
     "data": {
      "text/plain": [
       "b'attribute'"
      ]
     },
     "execution_count": 3,
     "metadata": {},
     "output_type": "execute_result"
    }
   ],
   "source": [
    "b'attribute'"
   ]
  },
  {
   "cell_type": "code",
   "execution_count": 4,
   "metadata": {},
   "outputs": [
    {
     "ename": "SyntaxError",
     "evalue": "bytes can only contain ASCII literal characters. (<ipython-input-4-1892bb037e5c>, line 1)",
     "output_type": "error",
     "traceback": [
      "\u001b[0;36m  File \u001b[0;32m\"<ipython-input-4-1892bb037e5c>\"\u001b[0;36m, line \u001b[0;32m1\u001b[0m\n\u001b[0;31m    b'класс'\u001b[0m\n\u001b[0m            ^\u001b[0m\n\u001b[0;31mSyntaxError\u001b[0m\u001b[0;31m:\u001b[0m bytes can only contain ASCII literal characters.\n"
     ]
    }
   ],
   "source": [
    "b'класс'"
   ]
  },
  {
   "cell_type": "code",
   "execution_count": 5,
   "metadata": {},
   "outputs": [
    {
     "ename": "SyntaxError",
     "evalue": "bytes can only contain ASCII literal characters. (<ipython-input-5-469398a5f59d>, line 1)",
     "output_type": "error",
     "traceback": [
      "\u001b[0;36m  File \u001b[0;32m\"<ipython-input-5-469398a5f59d>\"\u001b[0;36m, line \u001b[0;32m1\u001b[0m\n\u001b[0;31m    b'функция'\u001b[0m\n\u001b[0m              ^\u001b[0m\n\u001b[0;31mSyntaxError\u001b[0m\u001b[0;31m:\u001b[0m bytes can only contain ASCII literal characters.\n"
     ]
    }
   ],
   "source": [
    "b'функция'"
   ]
  },
  {
   "cell_type": "code",
   "execution_count": 6,
   "metadata": {},
   "outputs": [
    {
     "data": {
      "text/plain": [
       "b'type'"
      ]
     },
     "execution_count": 6,
     "metadata": {},
     "output_type": "execute_result"
    }
   ],
   "source": [
    "b'type'"
   ]
  },
  {
   "cell_type": "markdown",
   "metadata": {},
   "source": [
    "\"класс\" и \"функция\" невозможно записать в байтовом виде, т.к. они содержат символы кириллицы"
   ]
  },
  {
   "cell_type": "markdown",
   "metadata": {},
   "source": [
    "### Задание 4"
   ]
  },
  {
   "cell_type": "code",
   "execution_count": 7,
   "metadata": {},
   "outputs": [
    {
     "name": "stdout",
     "output_type": "stream",
     "text": [
      "word: разработка\n",
      "bytes: b'\\xd1\\x80\\xd0\\xb0\\xd0\\xb7\\xd1\\x80\\xd0\\xb0\\xd0\\xb1\\xd0\\xbe\\xd1\\x82\\xd0\\xba\\xd0\\xb0'\n",
      "from bytes to string: разработка\n",
      "\n",
      "word: администрирование\n",
      "bytes: b'\\xd0\\xb0\\xd0\\xb4\\xd0\\xbc\\xd0\\xb8\\xd0\\xbd\\xd0\\xb8\\xd1\\x81\\xd1\\x82\\xd1\\x80\\xd0\\xb8\\xd1\\x80\\xd0\\xbe\\xd0\\xb2\\xd0\\xb0\\xd0\\xbd\\xd0\\xb8\\xd0\\xb5'\n",
      "from bytes to string: администрирование\n",
      "\n",
      "word: protocol\n",
      "bytes: b'protocol'\n",
      "from bytes to string: protocol\n",
      "\n",
      "word: standard\n",
      "bytes: b'standard'\n",
      "from bytes to string: standard\n",
      "\n"
     ]
    }
   ],
   "source": [
    "words = ['разработка', 'администрирование', 'protocol', 'standard']\n",
    "\n",
    "for w in words:\n",
    "    print(f'word: {w}')\n",
    "    \n",
    "    b = w.encode('utf-8')\n",
    "    print(f'bytes: {b}')\n",
    "    \n",
    "    bw = b.decode('utf-8')\n",
    "    print(f'from bytes to string: {bw}')\n",
    "    print()"
   ]
  },
  {
   "cell_type": "markdown",
   "metadata": {},
   "source": [
    "### Задание 5 (помню, что необязательно, но было интересно)"
   ]
  },
  {
   "cell_type": "code",
   "execution_count": 8,
   "metadata": {},
   "outputs": [
    {
     "name": "stdout",
     "output_type": "stream",
     "text": [
      "PING yandex.ru (5.255.255.80): 56 data bytes\n",
      "\n",
      "64 bytes from 5.255.255.80: icmp_seq=0 ttl=58 time=22.279 ms\n",
      "\n",
      "64 bytes from 5.255.255.80: icmp_seq=1 ttl=58 time=22.752 ms\n",
      "\n",
      "64 bytes from 5.255.255.80: icmp_seq=2 ttl=58 time=22.328 ms\n",
      "\n",
      "64 bytes from 5.255.255.80: icmp_seq=3 ttl=58 time=23.387 ms\n",
      "\n",
      "64 bytes from 5.255.255.80: icmp_seq=4 ttl=58 time=22.073 ms\n",
      "\n",
      "\n",
      "\n",
      "--- yandex.ru ping statistics ---\n",
      "\n",
      "5 packets transmitted, 5 packets received, 0.0% packet loss\n",
      "\n",
      "round-trip min/avg/max/stddev = 22.073/22.564/23.387/0.467 ms\n",
      "\n"
     ]
    }
   ],
   "source": [
    "import subprocess\n",
    "\n",
    "proc = subprocess.Popen(['ping', '-c 5', 'yandex.ru'], stdout=subprocess.PIPE)\n",
    "\n",
    "for line in proc.stdout:\n",
    "    print(line.decode('utf-8'))"
   ]
  },
  {
   "cell_type": "markdown",
   "metadata": {},
   "source": [
    "### Задание 6 (помню, что необязательно, но было интересно)"
   ]
  },
  {
   "cell_type": "code",
   "execution_count": 9,
   "metadata": {},
   "outputs": [],
   "source": [
    "strings = ['сетевое программирование', 'сокет', 'декоратор']\n",
    "with open('test_file.txt', 'w') as f:\n",
    "    for s in strings:\n",
    "        f.write(f'{s}\\n')"
   ]
  },
  {
   "cell_type": "code",
   "execution_count": 10,
   "metadata": {},
   "outputs": [
    {
     "data": {
      "text/plain": [
       "'UTF-8'"
      ]
     },
     "execution_count": 10,
     "metadata": {},
     "output_type": "execute_result"
    }
   ],
   "source": [
    "import locale\n",
    "\n",
    "locale.getpreferredencoding()"
   ]
  },
  {
   "cell_type": "code",
   "execution_count": 11,
   "metadata": {},
   "outputs": [
    {
     "name": "stdout",
     "output_type": "stream",
     "text": [
      "сетевое программирование\n",
      "\n",
      "сокет\n",
      "\n",
      "декоратор\n",
      "\n"
     ]
    }
   ],
   "source": [
    "with open('test_file.txt', 'r', encoding='utf-8') as f:\n",
    "    for line in f:\n",
    "        print(line)"
   ]
  },
  {
   "cell_type": "code",
   "execution_count": null,
   "metadata": {},
   "outputs": [],
   "source": []
  }
 ],
 "metadata": {
  "kernelspec": {
   "display_name": "Python 3",
   "language": "python",
   "name": "python3"
  },
  "language_info": {
   "codemirror_mode": {
    "name": "ipython",
    "version": 3
   },
   "file_extension": ".py",
   "mimetype": "text/x-python",
   "name": "python",
   "nbconvert_exporter": "python",
   "pygments_lexer": "ipython3",
   "version": "3.7.1"
  }
 },
 "nbformat": 4,
 "nbformat_minor": 2
}
